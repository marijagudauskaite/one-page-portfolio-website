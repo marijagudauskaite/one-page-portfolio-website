{
 "cells": [
  {
   "cell_type": "code",
   "execution_count": 1,
   "id": "4078c5f6-5c3c-481e-be30-b375cd210a9d",
   "metadata": {},
   "outputs": [],
   "source": [
    "import pandas"
   ]
  },
  {
   "cell_type": "code",
   "execution_count": 2,
   "id": "1252707f-6d89-4168-bafa-69b5c12c942a",
   "metadata": {},
   "outputs": [],
   "source": [
    "import numpy\n"
   ]
  },
  {
   "cell_type": "code",
   "execution_count": 6,
   "id": "cd5df6b3-fd0c-49a4-bbe5-d148a3ea47ca",
   "metadata": {},
   "outputs": [],
   "source": [
    "import pyppeteer"
   ]
  },
  {
   "cell_type": "code",
   "execution_count": 5,
   "id": "7915a158-1d40-4cd1-9c33-f9df08c0267b",
   "metadata": {},
   "outputs": [
    {
     "name": "stdout",
     "output_type": "stream",
     "text": [
      "Collecting pyppeteer\n",
      "  Downloading pyppeteer-0.2.5-py3-none-any.whl (87 kB)\n",
      "Requirement already satisfied: appdirs<2.0.0,>=1.4.3 in c:\\users\\marij\\anaconda3\\lib\\site-packages (from pyppeteer) (1.4.4)\n",
      "Collecting websockets<9.0,>=8.1\n",
      "  Downloading websockets-8.1-cp38-cp38-win_amd64.whl (66 kB)\n",
      "Requirement already satisfied: urllib3<2.0.0,>=1.25.8 in c:\\users\\marij\\anaconda3\\lib\\site-packages (from pyppeteer) (1.26.4)\n",
      "Requirement already satisfied: tqdm<5.0.0,>=4.42.1 in c:\\users\\marij\\anaconda3\\lib\\site-packages (from pyppeteer) (4.59.0)\n",
      "Collecting pyee<9.0.0,>=8.1.0\n",
      "  Downloading pyee-8.1.0-py2.py3-none-any.whl (12 kB)\n",
      "Installing collected packages: websockets, pyee, pyppeteer\n",
      "Successfully installed pyee-8.1.0 pyppeteer-0.2.5 websockets-8.1\n"
     ]
    }
   ],
   "source": [
    "!pip install pyppeteer"
   ]
  },
  {
   "cell_type": "code",
   "execution_count": null,
   "id": "2091b8b6-6aa8-46b6-b682-be9b690904a1",
   "metadata": {},
   "outputs": [],
   "source": []
  }
 ],
 "metadata": {
  "kernelspec": {
   "display_name": "Python 3",
   "language": "python",
   "name": "python3"
  },
  "language_info": {
   "codemirror_mode": {
    "name": "ipython",
    "version": 3
   },
   "file_extension": ".py",
   "mimetype": "text/x-python",
   "name": "python",
   "nbconvert_exporter": "python",
   "pygments_lexer": "ipython3",
   "version": "3.8.8"
  }
 },
 "nbformat": 4,
 "nbformat_minor": 5
}
